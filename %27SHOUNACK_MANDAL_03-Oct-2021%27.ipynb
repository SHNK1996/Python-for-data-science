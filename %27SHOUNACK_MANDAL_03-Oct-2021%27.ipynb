{
 "cells": [
  {
   "cell_type": "markdown",
   "metadata": {
    "id": "98yskoA9197_"
   },
   "source": [
    "#### Instructions:\n",
    "\n",
    "For all questions after 10th, Please only use the data specified in the note given just below the question\n",
    "You need to add answers in the same file i.e. PDS_UberDriveProject_Questions.ipynb' and rename that file as 'Name_Date.ipynb'.You can mention the date on which you will be uploading/submitting the file.For e.g. if you plan to submit your assignment on 1st January 2021, you can rename the file as 'STUDENTNAME_01-Jan-2021'"
   ]
  },
  {
   "cell_type": "markdown",
   "metadata": {
    "id": "WiVXvuYj198C"
   },
   "source": [
    "# Load the necessary libraries. Import and load the dataset with a name uber_drives ."
   ]
  },
  {
   "cell_type": "code",
   "execution_count": 3,
   "metadata": {
    "id": "1t_S2Qw_198D"
   },
   "outputs": [
    {
     "name": "stdout",
     "output_type": "stream",
     "text": [
      "Loaded dataset-(uberdrives.csv) as the name (uber_drives) in the below.\n",
      "           START_DATE*         END_DATE* CATEGORY*            START*  \\\n",
      "0     01-01-2016 21:11  01-01-2016 21:17  Business       Fort Pierce   \n",
      "1     01-02-2016 01:25  01-02-2016 01:37  Business       Fort Pierce   \n",
      "2     01-02-2016 20:25  01-02-2016 20:38  Business       Fort Pierce   \n",
      "3     01-05-2016 17:31  01-05-2016 17:45  Business       Fort Pierce   \n",
      "4     01-06-2016 14:42  01-06-2016 15:49  Business       Fort Pierce   \n",
      "...                ...               ...       ...               ...   \n",
      "1150   12/31/2016 1:07   12/31/2016 1:14  Business           Karachi   \n",
      "1151  12/31/2016 13:24  12/31/2016 13:42  Business           Karachi   \n",
      "1152  12/31/2016 15:03  12/31/2016 15:38  Business  Unknown Location   \n",
      "1153  12/31/2016 21:32  12/31/2016 21:50  Business        Katunayake   \n",
      "1154  12/31/2016 22:08  12/31/2016 23:51  Business           Gampaha   \n",
      "\n",
      "                 STOP*  MILES*         PURPOSE*  \n",
      "0          Fort Pierce     5.1   Meal/Entertain  \n",
      "1          Fort Pierce     5.0              NaN  \n",
      "2          Fort Pierce     4.8  Errand/Supplies  \n",
      "3          Fort Pierce     4.7          Meeting  \n",
      "4      West Palm Beach    63.7   Customer Visit  \n",
      "...                ...     ...              ...  \n",
      "1150           Karachi     0.7          Meeting  \n",
      "1151  Unknown Location     3.9   Temporary Site  \n",
      "1152  Unknown Location    16.2          Meeting  \n",
      "1153           Gampaha     6.4   Temporary Site  \n",
      "1154         Ilukwatta    48.2   Temporary Site  \n",
      "\n",
      "[1155 rows x 7 columns]\n"
     ]
    }
   ],
   "source": [
    "import pandas as pd\n",
    "import numpy as np\n",
    "uber_drives=pd.read_csv('uberdrives.csv')\n",
    "\n",
    "print(\"Loaded dataset-(uberdrives.csv) as the name (uber_drives) in the below.\")\n",
    "\n",
    "print(uber_drives)   "
   ]
  },
  {
   "cell_type": "code",
   "execution_count": 4,
   "metadata": {
    "id": "rOMfio427XfR"
   },
   "outputs": [
    {
     "name": "stdout",
     "output_type": "stream",
     "text": [
      "I can read the data sucessfully here :- \n"
     ]
    },
    {
     "data": {
      "text/html": [
       "<div>\n",
       "<style scoped>\n",
       "    .dataframe tbody tr th:only-of-type {\n",
       "        vertical-align: middle;\n",
       "    }\n",
       "\n",
       "    .dataframe tbody tr th {\n",
       "        vertical-align: top;\n",
       "    }\n",
       "\n",
       "    .dataframe thead th {\n",
       "        text-align: right;\n",
       "    }\n",
       "</style>\n",
       "<table border=\"1\" class=\"dataframe\">\n",
       "  <thead>\n",
       "    <tr style=\"text-align: right;\">\n",
       "      <th></th>\n",
       "      <th>START_DATE*</th>\n",
       "      <th>END_DATE*</th>\n",
       "      <th>CATEGORY*</th>\n",
       "      <th>START*</th>\n",
       "      <th>STOP*</th>\n",
       "      <th>MILES*</th>\n",
       "      <th>PURPOSE*</th>\n",
       "    </tr>\n",
       "  </thead>\n",
       "  <tbody>\n",
       "    <tr>\n",
       "      <th>0</th>\n",
       "      <td>01-01-2016 21:11</td>\n",
       "      <td>01-01-2016 21:17</td>\n",
       "      <td>Business</td>\n",
       "      <td>Fort Pierce</td>\n",
       "      <td>Fort Pierce</td>\n",
       "      <td>5.1</td>\n",
       "      <td>Meal/Entertain</td>\n",
       "    </tr>\n",
       "    <tr>\n",
       "      <th>1</th>\n",
       "      <td>01-02-2016 01:25</td>\n",
       "      <td>01-02-2016 01:37</td>\n",
       "      <td>Business</td>\n",
       "      <td>Fort Pierce</td>\n",
       "      <td>Fort Pierce</td>\n",
       "      <td>5.0</td>\n",
       "      <td>NaN</td>\n",
       "    </tr>\n",
       "    <tr>\n",
       "      <th>2</th>\n",
       "      <td>01-02-2016 20:25</td>\n",
       "      <td>01-02-2016 20:38</td>\n",
       "      <td>Business</td>\n",
       "      <td>Fort Pierce</td>\n",
       "      <td>Fort Pierce</td>\n",
       "      <td>4.8</td>\n",
       "      <td>Errand/Supplies</td>\n",
       "    </tr>\n",
       "    <tr>\n",
       "      <th>3</th>\n",
       "      <td>01-05-2016 17:31</td>\n",
       "      <td>01-05-2016 17:45</td>\n",
       "      <td>Business</td>\n",
       "      <td>Fort Pierce</td>\n",
       "      <td>Fort Pierce</td>\n",
       "      <td>4.7</td>\n",
       "      <td>Meeting</td>\n",
       "    </tr>\n",
       "    <tr>\n",
       "      <th>4</th>\n",
       "      <td>01-06-2016 14:42</td>\n",
       "      <td>01-06-2016 15:49</td>\n",
       "      <td>Business</td>\n",
       "      <td>Fort Pierce</td>\n",
       "      <td>West Palm Beach</td>\n",
       "      <td>63.7</td>\n",
       "      <td>Customer Visit</td>\n",
       "    </tr>\n",
       "    <tr>\n",
       "      <th>...</th>\n",
       "      <td>...</td>\n",
       "      <td>...</td>\n",
       "      <td>...</td>\n",
       "      <td>...</td>\n",
       "      <td>...</td>\n",
       "      <td>...</td>\n",
       "      <td>...</td>\n",
       "    </tr>\n",
       "    <tr>\n",
       "      <th>1150</th>\n",
       "      <td>12/31/2016 1:07</td>\n",
       "      <td>12/31/2016 1:14</td>\n",
       "      <td>Business</td>\n",
       "      <td>Karachi</td>\n",
       "      <td>Karachi</td>\n",
       "      <td>0.7</td>\n",
       "      <td>Meeting</td>\n",
       "    </tr>\n",
       "    <tr>\n",
       "      <th>1151</th>\n",
       "      <td>12/31/2016 13:24</td>\n",
       "      <td>12/31/2016 13:42</td>\n",
       "      <td>Business</td>\n",
       "      <td>Karachi</td>\n",
       "      <td>Unknown Location</td>\n",
       "      <td>3.9</td>\n",
       "      <td>Temporary Site</td>\n",
       "    </tr>\n",
       "    <tr>\n",
       "      <th>1152</th>\n",
       "      <td>12/31/2016 15:03</td>\n",
       "      <td>12/31/2016 15:38</td>\n",
       "      <td>Business</td>\n",
       "      <td>Unknown Location</td>\n",
       "      <td>Unknown Location</td>\n",
       "      <td>16.2</td>\n",
       "      <td>Meeting</td>\n",
       "    </tr>\n",
       "    <tr>\n",
       "      <th>1153</th>\n",
       "      <td>12/31/2016 21:32</td>\n",
       "      <td>12/31/2016 21:50</td>\n",
       "      <td>Business</td>\n",
       "      <td>Katunayake</td>\n",
       "      <td>Gampaha</td>\n",
       "      <td>6.4</td>\n",
       "      <td>Temporary Site</td>\n",
       "    </tr>\n",
       "    <tr>\n",
       "      <th>1154</th>\n",
       "      <td>12/31/2016 22:08</td>\n",
       "      <td>12/31/2016 23:51</td>\n",
       "      <td>Business</td>\n",
       "      <td>Gampaha</td>\n",
       "      <td>Ilukwatta</td>\n",
       "      <td>48.2</td>\n",
       "      <td>Temporary Site</td>\n",
       "    </tr>\n",
       "  </tbody>\n",
       "</table>\n",
       "<p>1155 rows × 7 columns</p>\n",
       "</div>"
      ],
      "text/plain": [
       "           START_DATE*         END_DATE* CATEGORY*            START*  \\\n",
       "0     01-01-2016 21:11  01-01-2016 21:17  Business       Fort Pierce   \n",
       "1     01-02-2016 01:25  01-02-2016 01:37  Business       Fort Pierce   \n",
       "2     01-02-2016 20:25  01-02-2016 20:38  Business       Fort Pierce   \n",
       "3     01-05-2016 17:31  01-05-2016 17:45  Business       Fort Pierce   \n",
       "4     01-06-2016 14:42  01-06-2016 15:49  Business       Fort Pierce   \n",
       "...                ...               ...       ...               ...   \n",
       "1150   12/31/2016 1:07   12/31/2016 1:14  Business           Karachi   \n",
       "1151  12/31/2016 13:24  12/31/2016 13:42  Business           Karachi   \n",
       "1152  12/31/2016 15:03  12/31/2016 15:38  Business  Unknown Location   \n",
       "1153  12/31/2016 21:32  12/31/2016 21:50  Business        Katunayake   \n",
       "1154  12/31/2016 22:08  12/31/2016 23:51  Business           Gampaha   \n",
       "\n",
       "                 STOP*  MILES*         PURPOSE*  \n",
       "0          Fort Pierce     5.1   Meal/Entertain  \n",
       "1          Fort Pierce     5.0              NaN  \n",
       "2          Fort Pierce     4.8  Errand/Supplies  \n",
       "3          Fort Pierce     4.7          Meeting  \n",
       "4      West Palm Beach    63.7   Customer Visit  \n",
       "...                ...     ...              ...  \n",
       "1150           Karachi     0.7          Meeting  \n",
       "1151  Unknown Location     3.9   Temporary Site  \n",
       "1152  Unknown Location    16.2          Meeting  \n",
       "1153           Gampaha     6.4   Temporary Site  \n",
       "1154         Ilukwatta    48.2   Temporary Site  \n",
       "\n",
       "[1155 rows x 7 columns]"
      ]
     },
     "execution_count": 4,
     "metadata": {},
     "output_type": "execute_result"
    }
   ],
   "source": [
    "# Get the Data\n",
    "print(\"I can read the data sucessfully here :- \")\n",
    "uber_drives "
   ]
  },
  {
   "cell_type": "markdown",
   "metadata": {
    "id": "DZktgL3E198I"
   },
   "source": [
    "## Q1. Show the last 10 records of the dataset. (2 point)"
   ]
  },
  {
   "cell_type": "code",
   "execution_count": 5,
   "metadata": {
    "colab": {
     "base_uri": "https://localhost:8080/",
     "height": 359
    },
    "id": "pk7z2uii198I",
    "outputId": "d08542a6-facc-4407-c359-c396ae9859a4"
   },
   "outputs": [
    {
     "name": "stdout",
     "output_type": "stream",
     "text": [
      "Showing the last 10 reccords :- \n"
     ]
    },
    {
     "data": {
      "text/html": [
       "<div>\n",
       "<style scoped>\n",
       "    .dataframe tbody tr th:only-of-type {\n",
       "        vertical-align: middle;\n",
       "    }\n",
       "\n",
       "    .dataframe tbody tr th {\n",
       "        vertical-align: top;\n",
       "    }\n",
       "\n",
       "    .dataframe thead th {\n",
       "        text-align: right;\n",
       "    }\n",
       "</style>\n",
       "<table border=\"1\" class=\"dataframe\">\n",
       "  <thead>\n",
       "    <tr style=\"text-align: right;\">\n",
       "      <th></th>\n",
       "      <th>START_DATE*</th>\n",
       "      <th>END_DATE*</th>\n",
       "      <th>CATEGORY*</th>\n",
       "      <th>START*</th>\n",
       "      <th>STOP*</th>\n",
       "      <th>MILES*</th>\n",
       "      <th>PURPOSE*</th>\n",
       "    </tr>\n",
       "  </thead>\n",
       "  <tbody>\n",
       "    <tr>\n",
       "      <th>1145</th>\n",
       "      <td>12/30/2016 10:15</td>\n",
       "      <td>12/30/2016 10:33</td>\n",
       "      <td>Business</td>\n",
       "      <td>Karachi</td>\n",
       "      <td>Karachi</td>\n",
       "      <td>2.8</td>\n",
       "      <td>Errand/Supplies</td>\n",
       "    </tr>\n",
       "    <tr>\n",
       "      <th>1146</th>\n",
       "      <td>12/30/2016 11:31</td>\n",
       "      <td>12/30/2016 11:56</td>\n",
       "      <td>Business</td>\n",
       "      <td>Karachi</td>\n",
       "      <td>Karachi</td>\n",
       "      <td>2.9</td>\n",
       "      <td>Errand/Supplies</td>\n",
       "    </tr>\n",
       "    <tr>\n",
       "      <th>1147</th>\n",
       "      <td>12/30/2016 15:41</td>\n",
       "      <td>12/30/2016 16:03</td>\n",
       "      <td>Business</td>\n",
       "      <td>Karachi</td>\n",
       "      <td>Karachi</td>\n",
       "      <td>4.6</td>\n",
       "      <td>Errand/Supplies</td>\n",
       "    </tr>\n",
       "    <tr>\n",
       "      <th>1148</th>\n",
       "      <td>12/30/2016 16:45</td>\n",
       "      <td>12/30/2016 17:08</td>\n",
       "      <td>Business</td>\n",
       "      <td>Karachi</td>\n",
       "      <td>Karachi</td>\n",
       "      <td>4.6</td>\n",
       "      <td>Meeting</td>\n",
       "    </tr>\n",
       "    <tr>\n",
       "      <th>1149</th>\n",
       "      <td>12/30/2016 23:06</td>\n",
       "      <td>12/30/2016 23:10</td>\n",
       "      <td>Business</td>\n",
       "      <td>Karachi</td>\n",
       "      <td>Karachi</td>\n",
       "      <td>0.8</td>\n",
       "      <td>Customer Visit</td>\n",
       "    </tr>\n",
       "    <tr>\n",
       "      <th>1150</th>\n",
       "      <td>12/31/2016 1:07</td>\n",
       "      <td>12/31/2016 1:14</td>\n",
       "      <td>Business</td>\n",
       "      <td>Karachi</td>\n",
       "      <td>Karachi</td>\n",
       "      <td>0.7</td>\n",
       "      <td>Meeting</td>\n",
       "    </tr>\n",
       "    <tr>\n",
       "      <th>1151</th>\n",
       "      <td>12/31/2016 13:24</td>\n",
       "      <td>12/31/2016 13:42</td>\n",
       "      <td>Business</td>\n",
       "      <td>Karachi</td>\n",
       "      <td>Unknown Location</td>\n",
       "      <td>3.9</td>\n",
       "      <td>Temporary Site</td>\n",
       "    </tr>\n",
       "    <tr>\n",
       "      <th>1152</th>\n",
       "      <td>12/31/2016 15:03</td>\n",
       "      <td>12/31/2016 15:38</td>\n",
       "      <td>Business</td>\n",
       "      <td>Unknown Location</td>\n",
       "      <td>Unknown Location</td>\n",
       "      <td>16.2</td>\n",
       "      <td>Meeting</td>\n",
       "    </tr>\n",
       "    <tr>\n",
       "      <th>1153</th>\n",
       "      <td>12/31/2016 21:32</td>\n",
       "      <td>12/31/2016 21:50</td>\n",
       "      <td>Business</td>\n",
       "      <td>Katunayake</td>\n",
       "      <td>Gampaha</td>\n",
       "      <td>6.4</td>\n",
       "      <td>Temporary Site</td>\n",
       "    </tr>\n",
       "    <tr>\n",
       "      <th>1154</th>\n",
       "      <td>12/31/2016 22:08</td>\n",
       "      <td>12/31/2016 23:51</td>\n",
       "      <td>Business</td>\n",
       "      <td>Gampaha</td>\n",
       "      <td>Ilukwatta</td>\n",
       "      <td>48.2</td>\n",
       "      <td>Temporary Site</td>\n",
       "    </tr>\n",
       "  </tbody>\n",
       "</table>\n",
       "</div>"
      ],
      "text/plain": [
       "           START_DATE*         END_DATE* CATEGORY*            START*  \\\n",
       "1145  12/30/2016 10:15  12/30/2016 10:33  Business           Karachi   \n",
       "1146  12/30/2016 11:31  12/30/2016 11:56  Business           Karachi   \n",
       "1147  12/30/2016 15:41  12/30/2016 16:03  Business           Karachi   \n",
       "1148  12/30/2016 16:45  12/30/2016 17:08  Business           Karachi   \n",
       "1149  12/30/2016 23:06  12/30/2016 23:10  Business           Karachi   \n",
       "1150   12/31/2016 1:07   12/31/2016 1:14  Business           Karachi   \n",
       "1151  12/31/2016 13:24  12/31/2016 13:42  Business           Karachi   \n",
       "1152  12/31/2016 15:03  12/31/2016 15:38  Business  Unknown Location   \n",
       "1153  12/31/2016 21:32  12/31/2016 21:50  Business        Katunayake   \n",
       "1154  12/31/2016 22:08  12/31/2016 23:51  Business           Gampaha   \n",
       "\n",
       "                 STOP*  MILES*         PURPOSE*  \n",
       "1145           Karachi     2.8  Errand/Supplies  \n",
       "1146           Karachi     2.9  Errand/Supplies  \n",
       "1147           Karachi     4.6  Errand/Supplies  \n",
       "1148           Karachi     4.6          Meeting  \n",
       "1149           Karachi     0.8   Customer Visit  \n",
       "1150           Karachi     0.7          Meeting  \n",
       "1151  Unknown Location     3.9   Temporary Site  \n",
       "1152  Unknown Location    16.2          Meeting  \n",
       "1153           Gampaha     6.4   Temporary Site  \n",
       "1154         Ilukwatta    48.2   Temporary Site  "
      ]
     },
     "execution_count": 5,
     "metadata": {},
     "output_type": "execute_result"
    }
   ],
   "source": [
    "print(\"Showing the last 10 reccords :- \")\n",
    "uber_drives.tail(10)"
   ]
  },
  {
   "cell_type": "markdown",
   "metadata": {
    "id": "ipD0ZQ9O198O"
   },
   "source": [
    "## Q2. Show the first 10 records of the dataset. (2 points)"
   ]
  },
  {
   "cell_type": "code",
   "execution_count": 6,
   "metadata": {
    "colab": {
     "base_uri": "https://localhost:8080/",
     "height": 359
    },
    "id": "XzYRsxR1198O",
    "outputId": "453fc6bd-26c1-41d1-82a4-f5bbacda0723"
   },
   "outputs": [
    {
     "name": "stdout",
     "output_type": "stream",
     "text": [
      "Showing the top 10 reccords :- \n"
     ]
    },
    {
     "data": {
      "text/html": [
       "<div>\n",
       "<style scoped>\n",
       "    .dataframe tbody tr th:only-of-type {\n",
       "        vertical-align: middle;\n",
       "    }\n",
       "\n",
       "    .dataframe tbody tr th {\n",
       "        vertical-align: top;\n",
       "    }\n",
       "\n",
       "    .dataframe thead th {\n",
       "        text-align: right;\n",
       "    }\n",
       "</style>\n",
       "<table border=\"1\" class=\"dataframe\">\n",
       "  <thead>\n",
       "    <tr style=\"text-align: right;\">\n",
       "      <th></th>\n",
       "      <th>START_DATE*</th>\n",
       "      <th>END_DATE*</th>\n",
       "      <th>CATEGORY*</th>\n",
       "      <th>START*</th>\n",
       "      <th>STOP*</th>\n",
       "      <th>MILES*</th>\n",
       "      <th>PURPOSE*</th>\n",
       "    </tr>\n",
       "  </thead>\n",
       "  <tbody>\n",
       "    <tr>\n",
       "      <th>0</th>\n",
       "      <td>01-01-2016 21:11</td>\n",
       "      <td>01-01-2016 21:17</td>\n",
       "      <td>Business</td>\n",
       "      <td>Fort Pierce</td>\n",
       "      <td>Fort Pierce</td>\n",
       "      <td>5.1</td>\n",
       "      <td>Meal/Entertain</td>\n",
       "    </tr>\n",
       "    <tr>\n",
       "      <th>1</th>\n",
       "      <td>01-02-2016 01:25</td>\n",
       "      <td>01-02-2016 01:37</td>\n",
       "      <td>Business</td>\n",
       "      <td>Fort Pierce</td>\n",
       "      <td>Fort Pierce</td>\n",
       "      <td>5.0</td>\n",
       "      <td>NaN</td>\n",
       "    </tr>\n",
       "    <tr>\n",
       "      <th>2</th>\n",
       "      <td>01-02-2016 20:25</td>\n",
       "      <td>01-02-2016 20:38</td>\n",
       "      <td>Business</td>\n",
       "      <td>Fort Pierce</td>\n",
       "      <td>Fort Pierce</td>\n",
       "      <td>4.8</td>\n",
       "      <td>Errand/Supplies</td>\n",
       "    </tr>\n",
       "    <tr>\n",
       "      <th>3</th>\n",
       "      <td>01-05-2016 17:31</td>\n",
       "      <td>01-05-2016 17:45</td>\n",
       "      <td>Business</td>\n",
       "      <td>Fort Pierce</td>\n",
       "      <td>Fort Pierce</td>\n",
       "      <td>4.7</td>\n",
       "      <td>Meeting</td>\n",
       "    </tr>\n",
       "    <tr>\n",
       "      <th>4</th>\n",
       "      <td>01-06-2016 14:42</td>\n",
       "      <td>01-06-2016 15:49</td>\n",
       "      <td>Business</td>\n",
       "      <td>Fort Pierce</td>\n",
       "      <td>West Palm Beach</td>\n",
       "      <td>63.7</td>\n",
       "      <td>Customer Visit</td>\n",
       "    </tr>\n",
       "    <tr>\n",
       "      <th>5</th>\n",
       "      <td>01-06-2016 17:15</td>\n",
       "      <td>01-06-2016 17:19</td>\n",
       "      <td>Business</td>\n",
       "      <td>West Palm Beach</td>\n",
       "      <td>West Palm Beach</td>\n",
       "      <td>4.3</td>\n",
       "      <td>Meal/Entertain</td>\n",
       "    </tr>\n",
       "    <tr>\n",
       "      <th>6</th>\n",
       "      <td>01-06-2016 17:30</td>\n",
       "      <td>01-06-2016 17:35</td>\n",
       "      <td>Business</td>\n",
       "      <td>West Palm Beach</td>\n",
       "      <td>Palm Beach</td>\n",
       "      <td>7.1</td>\n",
       "      <td>Meeting</td>\n",
       "    </tr>\n",
       "    <tr>\n",
       "      <th>7</th>\n",
       "      <td>01-07-2016 13:27</td>\n",
       "      <td>01-07-2016 13:33</td>\n",
       "      <td>Business</td>\n",
       "      <td>Cary</td>\n",
       "      <td>Cary</td>\n",
       "      <td>0.8</td>\n",
       "      <td>Meeting</td>\n",
       "    </tr>\n",
       "    <tr>\n",
       "      <th>8</th>\n",
       "      <td>01-10-2016 08:05</td>\n",
       "      <td>01-10-2016 08:25</td>\n",
       "      <td>Business</td>\n",
       "      <td>Cary</td>\n",
       "      <td>Morrisville</td>\n",
       "      <td>8.3</td>\n",
       "      <td>Meeting</td>\n",
       "    </tr>\n",
       "    <tr>\n",
       "      <th>9</th>\n",
       "      <td>01-10-2016 12:17</td>\n",
       "      <td>01-10-2016 12:44</td>\n",
       "      <td>Business</td>\n",
       "      <td>Jamaica</td>\n",
       "      <td>New York</td>\n",
       "      <td>16.5</td>\n",
       "      <td>Customer Visit</td>\n",
       "    </tr>\n",
       "  </tbody>\n",
       "</table>\n",
       "</div>"
      ],
      "text/plain": [
       "        START_DATE*         END_DATE* CATEGORY*           START*  \\\n",
       "0  01-01-2016 21:11  01-01-2016 21:17  Business      Fort Pierce   \n",
       "1  01-02-2016 01:25  01-02-2016 01:37  Business      Fort Pierce   \n",
       "2  01-02-2016 20:25  01-02-2016 20:38  Business      Fort Pierce   \n",
       "3  01-05-2016 17:31  01-05-2016 17:45  Business      Fort Pierce   \n",
       "4  01-06-2016 14:42  01-06-2016 15:49  Business      Fort Pierce   \n",
       "5  01-06-2016 17:15  01-06-2016 17:19  Business  West Palm Beach   \n",
       "6  01-06-2016 17:30  01-06-2016 17:35  Business  West Palm Beach   \n",
       "7  01-07-2016 13:27  01-07-2016 13:33  Business             Cary   \n",
       "8  01-10-2016 08:05  01-10-2016 08:25  Business             Cary   \n",
       "9  01-10-2016 12:17  01-10-2016 12:44  Business          Jamaica   \n",
       "\n",
       "             STOP*  MILES*         PURPOSE*  \n",
       "0      Fort Pierce     5.1   Meal/Entertain  \n",
       "1      Fort Pierce     5.0              NaN  \n",
       "2      Fort Pierce     4.8  Errand/Supplies  \n",
       "3      Fort Pierce     4.7          Meeting  \n",
       "4  West Palm Beach    63.7   Customer Visit  \n",
       "5  West Palm Beach     4.3   Meal/Entertain  \n",
       "6       Palm Beach     7.1          Meeting  \n",
       "7             Cary     0.8          Meeting  \n",
       "8      Morrisville     8.3          Meeting  \n",
       "9         New York    16.5   Customer Visit  "
      ]
     },
     "execution_count": 6,
     "metadata": {},
     "output_type": "execute_result"
    }
   ],
   "source": [
    "print(\"Showing the top 10 reccords :- \")\n",
    "uber_drives.head(10)"
   ]
  },
  {
   "cell_type": "markdown",
   "metadata": {
    "id": "R2F4GX15198S"
   },
   "source": [
    "## Q3. Show the dimension(number of rows and columns) of the dataset. (2 points)"
   ]
  },
  {
   "cell_type": "code",
   "execution_count": 7,
   "metadata": {
    "colab": {
     "base_uri": "https://localhost:8080/"
    },
    "id": "5YAWUNwZ198T",
    "outputId": "36e5d587-b2e3-406b-8678-b8d9ea8aa79a"
   },
   "outputs": [
    {
     "name": "stdout",
     "output_type": "stream",
     "text": [
      "(1155, 7)\n",
      " ~ Mentioned upper code is showing the number of rows = 1155 and column = 7.\n",
      " ~~ Number of rows and columns can be counted individually through this code :-\n",
      "No. of rows = \n",
      "1155\n",
      "No. of columns = \n",
      "7\n"
     ]
    }
   ],
   "source": [
    "print(uber_drives.shape)\n",
    "\n",
    "print(\" ~ Mentioned upper code is showing the number of rows = 1155 and column = 7.\")\n",
    "\n",
    "\n",
    "print(\" ~~ Number of rows and columns can be counted individually through this code :-\")\n",
    "\n",
    "print(\"No. of rows = \")\n",
    "print(uber_drives.shape[0])\n",
    "\n",
    "\n",
    "print(\"No. of columns = \")\n",
    "print(uber_drives.shape[1])\n",
    "\n",
    "\n"
   ]
  },
  {
   "cell_type": "markdown",
   "metadata": {
    "id": "H6x0S6vs198W"
   },
   "source": [
    "## Q4. Show the size (Total number of elements) of the dataset. (2 points)"
   ]
  },
  {
   "cell_type": "code",
   "execution_count": 8,
   "metadata": {
    "colab": {
     "base_uri": "https://localhost:8080/"
    },
    "id": "2IQc1x7D198X",
    "outputId": "1d740ac9-5d96-489e-fd2a-8863d2b94655"
   },
   "outputs": [
    {
     "name": "stdout",
     "output_type": "stream",
     "text": [
      "Total number of elements,. i.e,. rows * column :- \n"
     ]
    },
    {
     "data": {
      "text/plain": [
       "8085"
      ]
     },
     "execution_count": 8,
     "metadata": {},
     "output_type": "execute_result"
    }
   ],
   "source": [
    "print(\"Total number of elements,. i.e,. rows * column :- \")\n",
    "\n",
    "uber_drives.size\n",
    "\n",
    "# print(\"Total number of elements in each column : -\")\n",
    "# uber_drives.count()"
   ]
  },
  {
   "cell_type": "markdown",
   "metadata": {
    "id": "c2ATRpjm198a"
   },
   "source": [
    "## Q5. Display the information about all the variables of the data set. What can you infer from the output?(1 +2 points)\n",
    "\n",
    "#### Hint: Information includes - Total number of columns,variable data-types, number of non-null values in a variable, and usage"
   ]
  },
  {
   "cell_type": "code",
   "execution_count": 9,
   "metadata": {
    "colab": {
     "base_uri": "https://localhost:8080/"
    },
    "id": "D7Pfnrb6198b",
    "outputId": "33673c70-4ae3-410c-8495-a91a44c5a601"
   },
   "outputs": [
    {
     "name": "stdout",
     "output_type": "stream",
     "text": [
      "<class 'pandas.core.frame.DataFrame'>\n",
      "RangeIndex: 1155 entries, 0 to 1154\n",
      "Data columns (total 7 columns):\n",
      " #   Column       Non-Null Count  Dtype  \n",
      "---  ------       --------------  -----  \n",
      " 0   START_DATE*  1155 non-null   object \n",
      " 1   END_DATE*    1155 non-null   object \n",
      " 2   CATEGORY*    1155 non-null   object \n",
      " 3   START*       1155 non-null   object \n",
      " 4   STOP*        1155 non-null   object \n",
      " 5   MILES*       1155 non-null   float64\n",
      " 6   PURPOSE*     653 non-null    object \n",
      "dtypes: float64(1), object(6)\n",
      "memory usage: 63.3+ KB\n",
      "This shows the list of all the columns in the dataset- uber_drives along with the number of non-null count observations in each column and the type of data each column contains. All the columns have 1155 non-null values except PURPOSE* which has 653 non- null values. Data-type for all the column is object except MILES* which has dtype of float64.\n"
     ]
    }
   ],
   "source": [
    "uber_drives.info()   #5.a\n",
    "\n",
    "print(\"This shows the list of all the columns in the dataset- uber_drives along with the number of non-null count observations in each column and the type of data each column contains. All the columns have 1155 non-null values except PURPOSE* which has 653 non- null values. Data-type for all the column is object except MILES* which has dtype of float64.\")\n",
    "#5.b"
   ]
  },
  {
   "cell_type": "markdown",
   "metadata": {
    "id": "emZkbUV_198g"
   },
   "source": [
    "## Q6. Check for missing values. (2 points) \n",
    "\n",
    "####  Note: Output should contain only one boolean value"
   ]
  },
  {
   "cell_type": "code",
   "execution_count": 23,
   "metadata": {
    "colab": {
     "base_uri": "https://localhost:8080/"
    },
    "id": "XWU-AunT198h",
    "outputId": "cf6a6413-8b96-44a1-a3a6-cd3640761e2d"
   },
   "outputs": [
    {
     "data": {
      "text/plain": [
       "True"
      ]
     },
     "execution_count": 23,
     "metadata": {},
     "output_type": "execute_result"
    }
   ],
   "source": [
    "\n",
    "\n",
    "uber_drives.isnull().values.any()"
   ]
  },
  {
   "cell_type": "markdown",
   "metadata": {
    "id": "UCvC2OPe198l"
   },
   "source": [
    "## Q7. How many missing values are present in the entire dataset? (2 points)\n"
   ]
  },
  {
   "cell_type": "code",
   "execution_count": 37,
   "metadata": {
    "colab": {
     "base_uri": "https://localhost:8080/"
    },
    "id": "o2-vHyGA198m",
    "outputId": "60923ca7-1704-41c0-9620-6be35e10ed3b"
   },
   "outputs": [
    {
     "name": "stdout",
     "output_type": "stream",
     "text": [
      "502\n",
      "There are total 502 missing values in uber_drive dataset.\n"
     ]
    }
   ],
   "source": [
    "print(uber_drives.isnull().values.sum())\n",
    "\n",
    "print(\"There are total 502 missing values in uber_drive dataset.\")\n",
    "\n",
    "\n",
    "# uber_drives.isnull().sum()   # missing values in perticular column.\n"
   ]
  },
  {
   "cell_type": "markdown",
   "metadata": {
    "id": "617aSeL_198q"
   },
   "source": [
    "## Q8. Get the summary of the original data. (2 points).\n",
    "\n",
    "#### Hint: Summary includes- Count,Mean, Std, Min, 25%,50%,75% and max"
   ]
  },
  {
   "cell_type": "code",
   "execution_count": 50,
   "metadata": {
    "colab": {
     "base_uri": "https://localhost:8080/",
     "height": 297
    },
    "id": "hMkibRQg198q",
    "outputId": "e4e9580a-3465-4bb5-d564-6b14bf8d4adb"
   },
   "outputs": [
    {
     "data": {
      "text/html": [
       "<div>\n",
       "<style scoped>\n",
       "    .dataframe tbody tr th:only-of-type {\n",
       "        vertical-align: middle;\n",
       "    }\n",
       "\n",
       "    .dataframe tbody tr th {\n",
       "        vertical-align: top;\n",
       "    }\n",
       "\n",
       "    .dataframe thead th {\n",
       "        text-align: right;\n",
       "    }\n",
       "</style>\n",
       "<table border=\"1\" class=\"dataframe\">\n",
       "  <thead>\n",
       "    <tr style=\"text-align: right;\">\n",
       "      <th></th>\n",
       "      <th>MILES*</th>\n",
       "    </tr>\n",
       "  </thead>\n",
       "  <tbody>\n",
       "    <tr>\n",
       "      <th>count</th>\n",
       "      <td>1155.000000</td>\n",
       "    </tr>\n",
       "    <tr>\n",
       "      <th>mean</th>\n",
       "      <td>10.566840</td>\n",
       "    </tr>\n",
       "    <tr>\n",
       "      <th>std</th>\n",
       "      <td>21.579106</td>\n",
       "    </tr>\n",
       "    <tr>\n",
       "      <th>min</th>\n",
       "      <td>0.500000</td>\n",
       "    </tr>\n",
       "    <tr>\n",
       "      <th>25%</th>\n",
       "      <td>2.900000</td>\n",
       "    </tr>\n",
       "    <tr>\n",
       "      <th>50%</th>\n",
       "      <td>6.000000</td>\n",
       "    </tr>\n",
       "    <tr>\n",
       "      <th>75%</th>\n",
       "      <td>10.400000</td>\n",
       "    </tr>\n",
       "    <tr>\n",
       "      <th>max</th>\n",
       "      <td>310.300000</td>\n",
       "    </tr>\n",
       "  </tbody>\n",
       "</table>\n",
       "</div>"
      ],
      "text/plain": [
       "            MILES*\n",
       "count  1155.000000\n",
       "mean     10.566840\n",
       "std      21.579106\n",
       "min       0.500000\n",
       "25%       2.900000\n",
       "50%       6.000000\n",
       "75%      10.400000\n",
       "max     310.300000"
      ]
     },
     "execution_count": 50,
     "metadata": {},
     "output_type": "execute_result"
    }
   ],
   "source": [
    "uber_drives.describe()"
   ]
  },
  {
   "cell_type": "markdown",
   "metadata": {
    "id": "8PmU-86n198v"
   },
   "source": [
    "\n",
    "\n",
    "## Q9. Drop the missing values and store the data in a new dataframe (name it\"df\") (2-points)\n",
    "\n",
    "#### Note: Dataframe \"df\" will not contain any missing value"
   ]
  },
  {
   "cell_type": "code",
   "execution_count": 63,
   "metadata": {
    "colab": {
     "base_uri": "https://localhost:8080/"
    },
    "id": "3xZC0dvq198w",
    "outputId": "1a2eb61f-65f4-4344-c151-e7f623a35fe6"
   },
   "outputs": [
    {
     "name": "stdout",
     "output_type": "stream",
     "text": [
      "False\n"
     ]
    }
   ],
   "source": [
    "df=uber_drives.dropna( how='any') #\n",
    "print(df.isnull().values.any()) # For checking whether any missing values is there in the df dataframe.\n"
   ]
  },
  {
   "cell_type": "markdown",
   "metadata": {
    "id": "2vIFI9G61983"
   },
   "source": [
    "## Q10. Check the information of the dataframe(df). (1 points)\n",
    "\n",
    "#### Hint: Information includes - Total number of columns,variable data-types, number of non-null values in a variable, and usage"
   ]
  },
  {
   "cell_type": "code",
   "execution_count": 64,
   "metadata": {
    "colab": {
     "base_uri": "https://localhost:8080/"
    },
    "id": "DrmfQwDc1983",
    "outputId": "27394741-1b4e-4249-ee9b-728d388a6855"
   },
   "outputs": [
    {
     "name": "stdout",
     "output_type": "stream",
     "text": [
      "<class 'pandas.core.frame.DataFrame'>\n",
      "Int64Index: 653 entries, 0 to 1154\n",
      "Data columns (total 7 columns):\n",
      " #   Column       Non-Null Count  Dtype  \n",
      "---  ------       --------------  -----  \n",
      " 0   START_DATE*  653 non-null    object \n",
      " 1   END_DATE*    653 non-null    object \n",
      " 2   CATEGORY*    653 non-null    object \n",
      " 3   START*       653 non-null    object \n",
      " 4   STOP*        653 non-null    object \n",
      " 5   MILES*       653 non-null    float64\n",
      " 6   PURPOSE*     653 non-null    object \n",
      "dtypes: float64(1), object(6)\n",
      "memory usage: 40.8+ KB\n"
     ]
    }
   ],
   "source": [
    "df.info()"
   ]
  },
  {
   "cell_type": "markdown",
   "metadata": {
    "id": "Pqm4jhgT1986"
   },
   "source": [
    "## Q11. Get the unique start locations. (2 points)\n",
    "#### Note: This question is based on the dataframe with no 'NA' values"
   ]
  },
  {
   "cell_type": "code",
   "execution_count": 74,
   "metadata": {
    "colab": {
     "base_uri": "https://localhost:8080/"
    },
    "id": "jsuoItZX1987",
    "outputId": "22a926cf-9774-4223-a2d5-cf91ab160401"
   },
   "outputs": [
    {
     "name": "stdout",
     "output_type": "stream",
     "text": [
      "All the unique start locations are:-\n"
     ]
    },
    {
     "data": {
      "text/plain": [
       "array(['Fort Pierce', 'West Palm Beach', 'Cary', 'Jamaica', 'New York',\n",
       "       'Elmhurst', 'Midtown', 'East Harlem', 'Flatiron District',\n",
       "       'Midtown East', 'Hudson Square', 'Lower Manhattan',\n",
       "       \"Hell's Kitchen\", 'Downtown', 'Gulfton', 'Houston', 'Eagan Park',\n",
       "       'Morrisville', 'Durham', 'Farmington Woods', 'Lake Wellingborough',\n",
       "       'Fayetteville Street', 'Raleigh', 'Whitebridge', 'Hazelwood',\n",
       "       'Fairmont', 'Meredith Townes', 'Apex', 'Chapel Hill', 'Northwoods',\n",
       "       'Edgehill Farms', 'Eastgate', 'East Elmhurst', 'Long Island City',\n",
       "       'Katunayaka', 'Colombo', 'Nugegoda', 'Unknown Location',\n",
       "       'Islamabad', 'R?walpindi', 'Noorpur Shahan', 'Preston',\n",
       "       'Heritage Pines', 'Tanglewood', 'Waverly Place', 'Wayne Ridge',\n",
       "       'Westpark Place', 'East Austin', 'The Drag', 'South Congress',\n",
       "       'Georgian Acres', 'North Austin', 'West University', 'Austin',\n",
       "       'Katy', 'Sharpstown', 'Sugar Land', 'Galveston', 'Port Bolivar',\n",
       "       'Washington Avenue', 'Briar Meadow', 'Latta', 'Jacksonville',\n",
       "       'Lake Reams', 'Orlando', 'Kissimmee', 'Daytona Beach', 'Ridgeland',\n",
       "       'Florence', 'Meredith', 'Holly Springs', 'Chessington', 'Burtrose',\n",
       "       'Parkway', 'Mcvan', 'Capitol One', 'University District',\n",
       "       'Seattle', 'Redmond', 'Bellevue', 'San Francisco', 'Palo Alto',\n",
       "       'Sunnyvale', 'Newark', 'Menlo Park', 'Old City', 'Savon Height',\n",
       "       'Kilarney Woods', 'Townes at Everett Crossing', 'Huntington Woods',\n",
       "       'Weston', 'Seaport', 'Medical Centre', 'Rose Hill', 'Soho',\n",
       "       'Tribeca', 'Financial District', 'Oakland', 'Emeryville',\n",
       "       'Berkeley', 'Kenner', 'CBD', 'Lower Garden District', 'Storyville',\n",
       "       'New Orleans', 'Chalmette', 'Arabi', 'Pontchartrain Shores',\n",
       "       'Metairie', 'Summerwinds', 'Parkwood', 'Banner Elk', 'Boone',\n",
       "       'Stonewater', 'Lexington Park at Amberly', 'Winston Salem',\n",
       "       'Asheville', 'Topton', 'Renaissance', 'Santa Clara', 'Ingleside',\n",
       "       'West Berkeley', 'Mountain View', 'El Cerrito', 'Krendle Woods',\n",
       "       'Fuquay-Varina', 'Rawalpindi', 'Lahore', 'Karachi', 'Katunayake',\n",
       "       'Gampaha'], dtype=object)"
      ]
     },
     "execution_count": 74,
     "metadata": {},
     "output_type": "execute_result"
    }
   ],
   "source": [
    "# df.columns\n",
    "print('All the unique start locations are:-')\n",
    "df[\"START*\"].unique()"
   ]
  },
  {
   "cell_type": "markdown",
   "metadata": {
    "id": "s3s-pY1R198_"
   },
   "source": [
    "## Q12. What is the total number of unique start locations? (2 points)\n",
    "#### Note: Use the original dataframe without dropping 'NA' values"
   ]
  },
  {
   "cell_type": "code",
   "execution_count": 78,
   "metadata": {
    "colab": {
     "base_uri": "https://localhost:8080/"
    },
    "id": "OOZy88AA199A",
    "outputId": "e0c77ca6-7379-4546-f980-5e3dc9db8074"
   },
   "outputs": [
    {
     "data": {
      "text/plain": [
       "176"
      ]
     },
     "execution_count": 78,
     "metadata": {},
     "output_type": "execute_result"
    }
   ],
   "source": [
    "uber_drives[\"START*\"].nunique()"
   ]
  },
  {
   "cell_type": "markdown",
   "metadata": {
    "id": "LuKFv1_P199D"
   },
   "source": [
    "## Q13. What is the total number of unique stop locations. (2 points)\n",
    "#### Note: Use the original dataframe without dropping 'NA' values."
   ]
  },
  {
   "cell_type": "code",
   "execution_count": 81,
   "metadata": {
    "colab": {
     "base_uri": "https://localhost:8080/"
    },
    "id": "5YeWcpZT199E",
    "outputId": "6e7f87a0-29e8-4bd3-9ee2-fc32b5259767"
   },
   "outputs": [
    {
     "data": {
      "text/plain": [
       "187"
      ]
     },
     "execution_count": 81,
     "metadata": {},
     "output_type": "execute_result"
    }
   ],
   "source": [
    "uber_drives['STOP*'].nunique()\n",
    "# uber_drives"
   ]
  },
  {
   "cell_type": "markdown",
   "metadata": {
    "id": "VmkTnPlt199H"
   },
   "source": [
    "## Q14. Display all Uber trips that has the starting point as San Francisco. (2 points)\n",
    "#### Note: Use the original dataframe without dropping the 'NA' values.\n"
   ]
  },
  {
   "cell_type": "code",
   "execution_count": 88,
   "metadata": {
    "colab": {
     "base_uri": "https://localhost:8080/",
     "height": 297
    },
    "id": "fwhKZQfs199I",
    "outputId": "949bc9c3-ed15-4299-95e4-c42980a2dfd6"
   },
   "outputs": [
    {
     "data": {
      "text/html": [
       "<div>\n",
       "<style scoped>\n",
       "    .dataframe tbody tr th:only-of-type {\n",
       "        vertical-align: middle;\n",
       "    }\n",
       "\n",
       "    .dataframe tbody tr th {\n",
       "        vertical-align: top;\n",
       "    }\n",
       "\n",
       "    .dataframe thead th {\n",
       "        text-align: right;\n",
       "    }\n",
       "</style>\n",
       "<table border=\"1\" class=\"dataframe\">\n",
       "  <thead>\n",
       "    <tr style=\"text-align: right;\">\n",
       "      <th></th>\n",
       "      <th>START_DATE*</th>\n",
       "      <th>END_DATE*</th>\n",
       "      <th>CATEGORY*</th>\n",
       "      <th>START*</th>\n",
       "      <th>STOP*</th>\n",
       "      <th>MILES*</th>\n",
       "      <th>PURPOSE*</th>\n",
       "    </tr>\n",
       "  </thead>\n",
       "  <tbody>\n",
       "    <tr>\n",
       "      <th>362</th>\n",
       "      <td>05-09-2016 14:39</td>\n",
       "      <td>05-09-2016 15:06</td>\n",
       "      <td>Business</td>\n",
       "      <td>San Francisco</td>\n",
       "      <td>Palo Alto</td>\n",
       "      <td>20.5</td>\n",
       "      <td>Between Offices</td>\n",
       "    </tr>\n",
       "    <tr>\n",
       "      <th>440</th>\n",
       "      <td>6/14/2016 16:09</td>\n",
       "      <td>6/14/2016 16:39</td>\n",
       "      <td>Business</td>\n",
       "      <td>San Francisco</td>\n",
       "      <td>Emeryville</td>\n",
       "      <td>11.6</td>\n",
       "      <td>Meeting</td>\n",
       "    </tr>\n",
       "    <tr>\n",
       "      <th>836</th>\n",
       "      <td>10/19/2016 14:02</td>\n",
       "      <td>10/19/2016 14:31</td>\n",
       "      <td>Business</td>\n",
       "      <td>San Francisco</td>\n",
       "      <td>Berkeley</td>\n",
       "      <td>10.8</td>\n",
       "      <td>NaN</td>\n",
       "    </tr>\n",
       "    <tr>\n",
       "      <th>917</th>\n",
       "      <td>11-07-2016 19:17</td>\n",
       "      <td>11-07-2016 19:57</td>\n",
       "      <td>Business</td>\n",
       "      <td>San Francisco</td>\n",
       "      <td>Berkeley</td>\n",
       "      <td>13.2</td>\n",
       "      <td>Between Offices</td>\n",
       "    </tr>\n",
       "    <tr>\n",
       "      <th>919</th>\n",
       "      <td>11-08-2016 12:16</td>\n",
       "      <td>11-08-2016 12:49</td>\n",
       "      <td>Business</td>\n",
       "      <td>San Francisco</td>\n",
       "      <td>Berkeley</td>\n",
       "      <td>11.3</td>\n",
       "      <td>Meeting</td>\n",
       "    </tr>\n",
       "    <tr>\n",
       "      <th>927</th>\n",
       "      <td>11-09-2016 18:40</td>\n",
       "      <td>11-09-2016 19:17</td>\n",
       "      <td>Business</td>\n",
       "      <td>San Francisco</td>\n",
       "      <td>Oakland</td>\n",
       "      <td>12.7</td>\n",
       "      <td>Customer Visit</td>\n",
       "    </tr>\n",
       "    <tr>\n",
       "      <th>933</th>\n",
       "      <td>11-10-2016 15:17</td>\n",
       "      <td>11-10-2016 15:22</td>\n",
       "      <td>Business</td>\n",
       "      <td>San Francisco</td>\n",
       "      <td>Oakland</td>\n",
       "      <td>9.9</td>\n",
       "      <td>Temporary Site</td>\n",
       "    </tr>\n",
       "    <tr>\n",
       "      <th>966</th>\n",
       "      <td>11/15/2016 20:44</td>\n",
       "      <td>11/15/2016 21:00</td>\n",
       "      <td>Business</td>\n",
       "      <td>San Francisco</td>\n",
       "      <td>Berkeley</td>\n",
       "      <td>11.8</td>\n",
       "      <td>Temporary Site</td>\n",
       "    </tr>\n",
       "  </tbody>\n",
       "</table>\n",
       "</div>"
      ],
      "text/plain": [
       "          START_DATE*         END_DATE* CATEGORY*         START*       STOP*  \\\n",
       "362  05-09-2016 14:39  05-09-2016 15:06  Business  San Francisco   Palo Alto   \n",
       "440   6/14/2016 16:09   6/14/2016 16:39  Business  San Francisco  Emeryville   \n",
       "836  10/19/2016 14:02  10/19/2016 14:31  Business  San Francisco    Berkeley   \n",
       "917  11-07-2016 19:17  11-07-2016 19:57  Business  San Francisco    Berkeley   \n",
       "919  11-08-2016 12:16  11-08-2016 12:49  Business  San Francisco    Berkeley   \n",
       "927  11-09-2016 18:40  11-09-2016 19:17  Business  San Francisco     Oakland   \n",
       "933  11-10-2016 15:17  11-10-2016 15:22  Business  San Francisco     Oakland   \n",
       "966  11/15/2016 20:44  11/15/2016 21:00  Business  San Francisco    Berkeley   \n",
       "\n",
       "     MILES*         PURPOSE*  \n",
       "362    20.5  Between Offices  \n",
       "440    11.6          Meeting  \n",
       "836    10.8              NaN  \n",
       "917    13.2  Between Offices  \n",
       "919    11.3          Meeting  \n",
       "927    12.7   Customer Visit  \n",
       "933     9.9   Temporary Site  \n",
       "966    11.8   Temporary Site  "
      ]
     },
     "execution_count": 88,
     "metadata": {},
     "output_type": "execute_result"
    }
   ],
   "source": [
    "uber_drives.loc[uber_drives['START*'] == 'San Francisco']"
   ]
  },
  {
   "cell_type": "markdown",
   "metadata": {
    "id": "ZMsuzJcG199O"
   },
   "source": [
    "## Q15. What is the most popular starting point for the Uber drivers? (2 points)\n",
    "#### Note: Use the original dataframe without dropping the 'NA' values.\n",
    "\n",
    "#### Hint:Popular means the place that is visited the most"
   ]
  },
  {
   "cell_type": "code",
   "execution_count": 107,
   "metadata": {
    "colab": {
     "base_uri": "https://localhost:8080/"
    },
    "id": "a5QGyjza199P",
    "outputId": "e811a583-6780-4729-90ab-6f1e3a3e2716"
   },
   "outputs": [
    {
     "name": "stdout",
     "output_type": "stream",
     "text": [
      "0    Cary\n",
      "dtype: object\n",
      "Cary is the most popular starting point for the Uber drives.\n"
     ]
    }
   ],
   "source": [
    "print(uber_drives['START*'].mode())\n",
    "print(\"Cary is the most popular starting point for the Uber drives.\")\n",
    "\n",
    "# uber_drives[\"START*\"].value_counts()    # will show the counts for all the start points, The max count here is in the top.."
   ]
  },
  {
   "cell_type": "markdown",
   "metadata": {
    "id": "S13-HiPG199T"
   },
   "source": [
    "## Q16. What is the most popular dropping point for the Uber drivers? (2 points)\n",
    "#### Note: Use the original dataframe without dropping the 'NA' values.\n",
    "\n",
    "#### Hint: Popular means the place that is visited the most"
   ]
  },
  {
   "cell_type": "code",
   "execution_count": 153,
   "metadata": {
    "colab": {
     "base_uri": "https://localhost:8080/"
    },
    "id": "YP-hwvNT199T",
    "outputId": "725bec1c-38bc-401f-f71d-dc23d22640cd"
   },
   "outputs": [
    {
     "name": "stdout",
     "output_type": "stream",
     "text": [
      "Cary                 203\n",
      "Unknown Location     149\n",
      "Morrisville           84\n",
      "Whitebridge           65\n",
      "Islamabad             58\n",
      "                    ... \n",
      "Ingleside              1\n",
      "Marigny                1\n",
      "Florence               1\n",
      "Gramercy-Flatiron      1\n",
      "Umstead                1\n",
      "Name: STOP*, Length: 187, dtype: int64\n",
      "                      \n",
      "Hence the most popular dropping point for the Uber drives is - 'Cary'.  \n"
     ]
    }
   ],
   "source": [
    "print(uber_drives['STOP*'].value_counts())\n",
    "print('                      ')\n",
    "print(\"Hence the most popular dropping point for the Uber drives is - 'Cary'.  \")\n",
    "pd.set_option('display.max_rows',10)"
   ]
  },
  {
   "cell_type": "markdown",
   "metadata": {
    "id": "6Iqizk7B199W"
   },
   "source": [
    "## Q17. What is the most frequent route taken by Uber drivers. (3 points)\n",
    "#### Note: This question is based on the new dataframe with no 'na' values.\n",
    "#### Hint-Print the most frequent route taken by Uber drivers (Route= combination of START & END points present in the Data set)."
   ]
  },
  {
   "cell_type": "code",
   "execution_count": 155,
   "metadata": {
    "colab": {
     "base_uri": "https://localhost:8080/"
    },
    "id": "f41v9gc4199X",
    "outputId": "80499077-8872-4f3f-a504-d648ad8ec910"
   },
   "outputs": [
    {
     "name": "stdout",
     "output_type": "stream",
     "text": [
      "                         START*                       STOP*  count\n",
      "0                          Apex                        Cary     10\n",
      "1                          Apex               Holly Springs      1\n",
      "2                         Arabi                    Metairie      1\n",
      "3                     Asheville                      Topton      1\n",
      "4                        Austin                        Katy      1\n",
      "5                    Banner Elk                  Banner Elk      1\n",
      "6                    Banner Elk                       Boone      1\n",
      "7                      Bellevue                     Seattle      1\n",
      "8                      Berkeley                  El Cerrito      1\n",
      "9                      Berkeley                  Menlo Park      1\n",
      "10                     Berkeley               Mountain View      1\n",
      "11                     Berkeley                     Oakland      2\n",
      "12                     Berkeley               San Francisco      3\n",
      "13                        Boone                        Cary      1\n",
      "14                 Briar Meadow                     Midtown      1\n",
      "15                     Burtrose                 Whitebridge      1\n",
      "16                          CBD       Lower Garden District      1\n",
      "17                  Capitol One                       Mcvan      1\n",
      "18                  Capitol One         University District      1\n",
      "19                         Cary                        Apex     11\n",
      "20                         Cary                        Cary     44\n",
      "21                         Cary                 Chapel Hill      1\n",
      "22                         Cary                      Durham     30\n",
      "23                         Cary               Fuquay-Varina      1\n",
      "24                         Cary               Holly Springs      1\n",
      "25                         Cary                       Latta      1\n",
      "26                         Cary                 Morrisville     52\n",
      "27                         Cary                     Raleigh     17\n",
      "28                         Cary            Unknown Location      1\n",
      "29                         Cary                    Wake Co.      1\n",
      "30                         Cary               Winston Salem      1\n",
      "31                    Chalmette                       Arabi      1\n",
      "32                  Chapel Hill                        Cary      1\n",
      "33                  Chapel Hill                 Morrisville      1\n",
      "34                  Chessington                 Chessington      1\n",
      "35                      Colombo                     Colombo      2\n",
      "36                      Colombo                  Katunayaka      1\n",
      "37                      Colombo                    Nugegoda      1\n",
      "38                Daytona Beach                Jacksonville      1\n",
      "39                     Downtown             Bay Farm Island      1\n",
      "40                     Downtown                     Gulfton      1\n",
      "41                     Downtown                     Midtown      1\n",
      "42                     Downtown                    The Drag      1\n",
      "43                       Durham                        Cary     29\n",
      "44                       Durham                 Morrisville      1\n",
      "45                   Eagan Park             Jamestown Court      1\n",
      "46                  East Austin             West University      1\n",
      "47                East Elmhurst                    New York      1\n",
      "48                  East Harlem                       NoMad      1\n",
      "49                     Eastgate              Walnut Terrace      1\n",
      "50               Edgehill Farms                 Whitebridge      4\n",
      "51                   El Cerrito                    Berkeley      1\n",
      "52                     Elmhurst                    New York      1\n",
      "53                   Emeryville                    Berkeley      3\n",
      "54                   Emeryville                     Oakland      1\n",
      "55                     Fairmont             Meredith Townes      1\n",
      "56             Farmington Woods                 Whitebridge      1\n",
      "57          Fayetteville Street     Depot Historic District      1\n",
      "58          Fayetteville Street             Meredith Townes      1\n",
      "59          Fayetteville Street                     Umstead      1\n",
      "60           Financial District                    Kips Bay      1\n",
      "61            Flatiron District                     Midtown      1\n",
      "62                     Florence                        Cary      1\n",
      "63                  Fort Pierce                 Fort Pierce      3\n",
      "64                  Fort Pierce             West Palm Beach      1\n",
      "65                Fuquay-Varina                        Cary      1\n",
      "66                    Galveston                     Houston      1\n",
      "67                    Galveston                Port Bolivar      1\n",
      "68                      Gampaha                   Ilukwatta      1\n",
      "69               Georgian Acres                    The Drag      1\n",
      "70                      Gulfton                    Downtown      1\n",
      "71                    Hazelwood                      Weston      1\n",
      "72                    Hazelwood                 Whitebridge      3\n",
      "73               Hell's Kitchen                     Midtown      1\n",
      "74               Heritage Pines                 Whitebridge      1\n",
      "75                Holly Springs                        Cary      2\n",
      "76                      Houston                   Galveston      1\n",
      "77                      Houston                     Houston      1\n",
      "78                      Houston                  Sugar Land      1\n",
      "79                Hudson Square              Hell's Kitchen      1\n",
      "80                Hudson Square             Lower Manhattan      1\n",
      "81             Huntington Woods                      Weston      1\n",
      "82                    Ingleside               Potrero Flats      1\n",
      "83                    Islamabad                   Islamabad      4\n",
      "84                    Islamabad              Noorpur Shahan      1\n",
      "85                    Islamabad                  Rawalpindi      1\n",
      "86                    Islamabad            Unknown Location      9\n",
      "87                 Jacksonville                   Kissimmee      1\n",
      "88                 Jacksonville                   Ridgeland      1\n",
      "89                      Jamaica                    New York      2\n",
      "90                      Karachi                     Karachi     20\n",
      "91                      Karachi            Unknown Location      6\n",
      "92                   Katunayaka                  Katunayaka      1\n",
      "93                   Katunayaka            Unknown Location      1\n",
      "94                   Katunayake                     Gampaha      1\n",
      "95                         Katy                     Houston      1\n",
      "96                       Kenner                 New Orleans      1\n",
      "97               Kilarney Woods              Kildaire Farms      1\n",
      "98               Kilarney Woods                 Whitebridge      1\n",
      "99                    Kissimmee               Daytona Beach      1\n",
      "100                   Kissimmee                   Kissimmee      1\n",
      "101                   Kissimmee                     Orlando      3\n",
      "102               Krendle Woods                 Whitebridge      1\n",
      "103                      Lahore                      Lahore     16\n",
      "104                      Lahore            Unknown Location      3\n",
      "105                  Lake Reams                  Lake Reams      1\n",
      "106         Lake Wellingborough                 Whitebridge      1\n",
      "107                       Latta                Jacksonville      1\n",
      "108   Lexington Park at Amberly                 Whitebridge      1\n",
      "109            Long Island City                     Jamaica      1\n",
      "110       Lower Garden District                    Lakeview      1\n",
      "111             Lower Manhattan               Hudson Square      1\n",
      "112                       Mcvan                 Capitol One      1\n",
      "113              Medical Centre                  Tudor City      1\n",
      "114                  Menlo Park                    Berkeley      1\n",
      "115                  Menlo Park                      Newark      1\n",
      "116                    Meredith                  Cedar Hill      1\n",
      "117             Meredith Townes                Harden Place      1\n",
      "118             Meredith Townes            Leesville Hollow      2\n",
      "119                    Metairie                 New Orleans      1\n",
      "120                     Midtown                       Alief      1\n",
      "121                     Midtown                 East Harlem      1\n",
      "122                     Midtown         Greater Greenspoint      1\n",
      "123                     Midtown               Hudson Square      1\n",
      "124                     Midtown                     Midtown      2\n",
      "125                     Midtown                Midtown East      1\n",
      "126                     Midtown                Midtown West      1\n",
      "127                     Midtown                  Sharpstown      2\n",
      "128                     Midtown           Washington Avenue      1\n",
      "129                Midtown East                     Midtown      1\n",
      "130                 Morrisville                        Cary     51\n",
      "131                 Morrisville                 Morrisville      1\n",
      "132                 Morrisville                     Raleigh      2\n",
      "133               Mountain View                    Berkeley      1\n",
      "134                 New Orleans                   Chalmette      1\n",
      "135                 New Orleans                      Kenner      1\n",
      "136                    New York                     Jamaica      1\n",
      "137                    New York            Long Island City      1\n",
      "138                    New York                      Queens      1\n",
      "139                    New York               Queens County      1\n",
      "140                      Newark                  Menlo Park      1\n",
      "141                      Newark               San Francisco      1\n",
      "142              Noorpur Shahan            Unknown Location      1\n",
      "143                North Austin                    Coxville      1\n",
      "144                  Northwoods                     Preston      1\n",
      "145                  Northwoods                 Whitebridge      1\n",
      "146                    Nugegoda            Unknown Location      1\n",
      "147                     Oakland                    Berkeley      1\n",
      "148                     Oakland                  Emeryville      1\n",
      "149                     Oakland               San Francisco      1\n",
      "150                     Oakland            Unknown Location      1\n",
      "151                    Old City                  Hog Island      1\n",
      "152                    Old City             Parkway Museums      1\n",
      "153                     Orlando                   Kissimmee      4\n",
      "154                   Palo Alto                   Sunnyvale      1\n",
      "155                     Parkway                 Whitebridge      3\n",
      "156                    Parkwood                    Parkwood      1\n",
      "157        Pontchartrain Shores        Pontchartrain Shores      1\n",
      "158                Port Bolivar                   Galveston      1\n",
      "159                Port Bolivar                Port Bolivar      1\n",
      "160                     Preston              Westpark Place      1\n",
      "161                     Preston                 Whitebridge      2\n",
      "162                  R?walpindi                  R?walpindi      1\n",
      "163                     Raleigh                        Cary     15\n",
      "164                     Raleigh                 Morrisville      4\n",
      "165                     Raleigh                     Raleigh      2\n",
      "166                  Rawalpindi                   Islamabad      1\n",
      "167                  Rawalpindi                  Rawalpindi      1\n",
      "168                  Rawalpindi            Unknown Location      3\n",
      "169                     Redmond                    Bellevue      1\n",
      "170                 Renaissance                       Agnew      1\n",
      "171                   Ridgeland                    Florence      1\n",
      "172                   Rose Hill                        Soho      1\n",
      "173               San Francisco                    Berkeley      3\n",
      "174               San Francisco                  Emeryville      1\n",
      "175               San Francisco                     Oakland      2\n",
      "176               San Francisco                   Palo Alto      1\n",
      "177                 Santa Clara                    Berkeley      1\n",
      "178                Savon Height                 Whitebridge      2\n",
      "179                     Seaport           Gramercy-Flatiron      1\n",
      "180                     Seattle                     Redmond      1\n",
      "181                  Sharpstown                     Midtown      2\n",
      "182                  Sharpstown                  Sharpstown      1\n",
      "183                        Soho                     Tribeca      1\n",
      "184              South Congress                North Austin      1\n",
      "185                  Stonewater   Lexington Park at Amberly      1\n",
      "186                  Storyville            Faubourg Marigny      1\n",
      "187                  Sugar Land                     Houston      1\n",
      "188                 Summerwinds                 Whitebridge      1\n",
      "189                   Sunnyvale                      Newark      1\n",
      "190                  Tanglewood                     Parkway      1\n",
      "191                  Tanglewood                 Whitebridge      2\n",
      "192                    The Drag       Congress Ave District      2\n",
      "193                    The Drag  Convention Center District      2\n",
      "194                    The Drag                North Austin      1\n",
      "195                    The Drag              South Congress      1\n",
      "196                      Topton                  Hayesville      1\n",
      "197  Townes at Everett Crossing                 Chessington      1\n",
      "198                     Tribeca          Financial District      1\n",
      "199         University District                 Capitol One      1\n",
      "200            Unknown Location                     Colombo      1\n",
      "201            Unknown Location                   Islamabad      9\n",
      "202            Unknown Location                     Karachi      6\n",
      "203            Unknown Location                      Lahore      3\n",
      "204            Unknown Location                 Morrisville      1\n",
      "205            Unknown Location                  R?walpindi      3\n",
      "206            Unknown Location                  Rawalpindi      2\n",
      "207            Unknown Location            Unknown Location     30\n",
      "208           Washington Avenue                     Midtown      1\n",
      "209               Waverly Place             Macgregor Downs      1\n",
      "210               Waverly Place                 Whitebridge      2\n",
      "211                 Wayne Ridge                 Whitebridge      3\n",
      "212               West Berkeley                       South      1\n",
      "213               West Berkeley                   Southside      1\n",
      "214             West Palm Beach                  Palm Beach      1\n",
      "215             West Palm Beach             West Palm Beach      1\n",
      "216             West University       Congress Ave District      1\n",
      "217                      Weston                      Weston      1\n",
      "218              Westpark Place                 Whitebridge      5\n",
      "219                 Whitebridge                    Burtrose      1\n",
      "220                 Whitebridge                 Chessington      1\n",
      "221                 Whitebridge              Edgehill Farms      3\n",
      "222                 Whitebridge                   Hazelwood      2\n",
      "223                 Whitebridge              Heritage Pines      1\n",
      "224                 Whitebridge              Kildaire Farms      1\n",
      "225                 Whitebridge             Macgregor Downs      1\n",
      "226                 Whitebridge                  Northwoods      1\n",
      "227                 Whitebridge                     Parkway      2\n",
      "228                 Whitebridge                     Preston      1\n",
      "229                 Whitebridge                Savon Height      3\n",
      "230                 Whitebridge                  Stonewater      1\n",
      "231                 Whitebridge                 Summerwinds      1\n",
      "232                 Whitebridge                  Tanglewood      3\n",
      "233                 Whitebridge               Waverly Place      4\n",
      "234                 Whitebridge                 Wayne Ridge      4\n",
      "235                 Whitebridge              Westpark Place      3\n",
      "236                 Whitebridge                 Whitebridge      2\n",
      "237                 Whitebridge          Williamsburg Manor      1\n",
      "238               Winston Salem                   Asheville      1\n",
      "                      \n",
      "                      \n",
      "52\n",
      "                      \n",
      "Hence the row with count = 52 is the most frequent route taken by the uber drivers which is :- 'Cary to  Morrisville'. \n"
     ]
    }
   ],
   "source": [
    "a=df.groupby(['START*','STOP*']).size().reset_index().rename(columns={0:'count'})\n",
    "print(a)\n",
    "print('                      ')\n",
    "pd.set_option('display.max_rows',500)\n",
    "print('                      ')\n",
    "print(a['count'].max())\n",
    "print('                      ')\n",
    "print(\"Hence the row with count = 52 is the most frequent route taken by the uber drivers which is :- 'Cary to  Morrisville'. \")  "
   ]
  },
  {
   "cell_type": "markdown",
   "metadata": {
    "id": "oBrYyZ-L199Z"
   },
   "source": [
    "## Q18. Display all types of purposes for the trip in an array. (2 points)\n",
    "#### Note: This question is based on the new dataframe with no 'NA' values."
   ]
  },
  {
   "cell_type": "code",
   "execution_count": 156,
   "metadata": {
    "colab": {
     "base_uri": "https://localhost:8080/"
    },
    "id": "p3fe_lTe199a",
    "outputId": "42c0d950-2141-4e13-9684-27b3c4dda5b2"
   },
   "outputs": [
    {
     "data": {
      "text/plain": [
       "array(['Meal/Entertain', 'Errand/Supplies', 'Meeting', 'Customer Visit',\n",
       "       'Temporary Site', 'Between Offices', 'Charity ($)', 'Commute',\n",
       "       'Moving', 'Airport/Travel'], dtype=object)"
      ]
     },
     "execution_count": 156,
     "metadata": {},
     "output_type": "execute_result"
    }
   ],
   "source": [
    "df['PURPOSE*'].unique()"
   ]
  },
  {
   "cell_type": "markdown",
   "metadata": {
    "id": "WBN9Ufxc199d"
   },
   "source": [
    "## Q19. Plot a bar graph of Purpose vs Miles(Distance). What can you infer from the plot(2 +2 points)\n",
    "#### Note: Use the original dataframe without dropping the 'NA' values.\n",
    "#### Hint:You have to plot total/sum miles per purpose"
   ]
  },
  {
   "cell_type": "code",
   "execution_count": 174,
   "metadata": {
    "colab": {
     "base_uri": "https://localhost:8080/",
     "height": 351
    },
    "id": "JaNSQ_qSa-Rg",
    "outputId": "4314b7a0-0f56-441d-ee93-e9c723e75115"
   },
   "outputs": [
    {
     "name": "stderr",
     "output_type": "stream",
     "text": [
      "C:\\Users\\rmand\\anaconda3\\lib\\site-packages\\seaborn\\_decorators.py:36: FutureWarning: Pass the following variables as keyword args: x, y. From version 0.12, the only valid positional argument will be `data`, and passing other arguments without an explicit keyword will result in an error or misinterpretation.\n",
      "  warnings.warn(\n"
     ]
    },
    {
     "name": "stdout",
     "output_type": "stream",
     "text": [
      "Total sum of miles for each purposes is shown in individually in this bar graph. The maximum miles by the individual purpose  i.e,. 'commute', and all other total sum miles per PURPOSE is below 25 Miles in distance. The lowest miles is covered by two purposes these are - 'Errand/Supplies' and 'Moving'. \n"
     ]
    },
    {
     "data": {
      "image/png": "[encoded data removed]",
      "text/plain": [
       "<Figure size 432x288 with 1 Axes>"
      ]
     },
     "metadata": {
      "needs_background": "light"
     },
     "output_type": "display_data"
    }
   ],
   "source": [
    "import seaborn as sns \n",
    "import matplotlib.pyplot as plt\n",
    "sns.set(color_codes=True)\n",
    "%matplotlib inline\n",
    "sns.barplot(uber_drives['MILES*'],uber_drives['PURPOSE*'] );\n",
    "\n",
    "print(\"Total sum of miles for each purposes is shown in individually in this bar graph. The maximum miles by the individual purpose  i.e,. 'commute', and all other total sum miles per PURPOSE is below 25 Miles in distance. The lowest miles is covered by two purposes these are - 'Errand/Supplies' and 'Moving'. \")"
   ]
  },
  {
   "cell_type": "markdown",
   "metadata": {
    "id": "b7-pD446199j"
   },
   "source": [
    "## Q20. Display a dataframe of Purpose and the total distance travelled for that particular Purpose. (3 points)\n",
    "#### Note: Use the original dataframe without dropping \"NA\" values"
   ]
  },
  {
   "cell_type": "code",
   "execution_count": 220,
   "metadata": {
    "colab": {
     "base_uri": "https://localhost:8080/",
     "height": 390
    },
    "id": "Em4d7Ng9199k",
    "outputId": "abe48585-adf0-4848-bc0e-7023e883f12c"
   },
   "outputs": [
    {
     "name": "stdout",
     "output_type": "stream",
     "text": [
      "The dataframe 'a' is modified with purpose 'Errand/Suppl'and in the below mentioned the sum of all the trips travelled by this perticular purpose.\n",
      "                \n",
      "           START_DATE*         END_DATE* CATEGORY*                      START*                    STOP*  MILES*         PURPOSE*\n",
      "2     01-02-2016 20:25  01-02-2016 20:38  Business                 Fort Pierce              Fort Pierce     4.8  Errand/Supplies\n",
      "14    01-11-2016 11:56  01-11-2016 12:03  Business           Flatiron District                  Midtown     1.6  Errand/Supplies\n",
      "19    01-12-2016 14:42  01-12-2016 14:56  Business             Lower Manhattan            Hudson Square     1.8  Errand/Supplies\n",
      "21    01-12-2016 15:42  01-12-2016 15:54  Business              Hell's Kitchen                  Midtown     2.0  Errand/Supplies\n",
      "26     1/14/2016 21:39   1/14/2016 21:45  Business                  Eagan Park          Jamestown Court     3.9  Errand/Supplies\n",
      "27      1/15/2016 0:41    1/15/2016 1:01  Business                 Morrisville                     Cary     8.0  Errand/Supplies\n",
      "37     1/21/2016 14:25   1/21/2016 14:29  Business                        Cary                     Cary     1.6  Errand/Supplies\n",
      "41     1/26/2016 12:33   1/26/2016 12:41  Business                   Hazelwood              Whitebridge     2.3  Errand/Supplies\n",
      "42     1/26/2016 16:24   1/26/2016 16:32  Business                 Whitebridge           Westpark Place     1.9  Errand/Supplies\n",
      "43     1/26/2016 17:17   1/26/2016 17:22  Business                        Cary                     Cary     1.4  Errand/Supplies\n",
      "44     1/26/2016 17:27   1/26/2016 17:29  Business                        Cary                     Cary     0.5  Errand/Supplies\n",
      "57     1/29/2016 18:31   1/29/2016 18:52  Business                        Cary                     Apex     5.8  Errand/Supplies\n",
      "59     1/30/2016 16:21   1/30/2016 16:33  Business                        Cary                     Apex     5.7  Errand/Supplies\n",
      "65    02-02-2016 13:51  02-02-2016 14:06  Business                        Cary                     Cary     6.0  Errand/Supplies\n",
      "66    02-02-2016 14:38  02-02-2016 14:42  Business                        Cary                     Cary     1.6  Errand/Supplies\n",
      "67    02-04-2016 08:40  02-04-2016 09:01  Business                        Cary              Morrisville     5.2  Errand/Supplies\n",
      "77    02-06-2016 18:57  02-06-2016 19:21  Business                     Raleigh                     Cary     9.0  Errand/Supplies\n",
      "79    02-07-2016 16:49  02-07-2016 17:01  Business                        Cary                     Apex     5.6  Errand/Supplies\n",
      "116    2/16/2016 17:40   2/16/2016 17:44  Business                    Nugegoda         Unknown Location     3.6  Errand/Supplies\n",
      "120    2/17/2016 16:38   2/17/2016 16:43  Business                  Katunayaka               Katunayaka     0.5  Errand/Supplies\n",
      "142    2/20/2016 18:00   2/20/2016 18:03  Business            Unknown Location         Unknown Location     3.2  Errand/Supplies\n",
      "143    2/20/2016 19:28   2/20/2016 19:49  Business            Unknown Location         Unknown Location     7.7  Errand/Supplies\n",
      "145    2/21/2016 11:39   2/21/2016 11:43  Business            Unknown Location                Islamabad     2.4  Errand/Supplies\n",
      "146    2/21/2016 11:47   2/21/2016 12:01  Business                   Islamabad                Islamabad     4.6  Errand/Supplies\n",
      "157    2/24/2016 15:19   2/24/2016 15:25  Business                     Preston              Whitebridge     1.7  Errand/Supplies\n",
      "158    2/25/2016 16:27   2/25/2016 16:35  Business                 Whitebridge           Heritage Pines     3.1  Errand/Supplies\n",
      "159    2/25/2016 16:47   2/25/2016 17:02  Business              Heritage Pines              Whitebridge     3.2  Errand/Supplies\n",
      "179   03-03-2016 11:04  03-03-2016 11:10  Business              Westpark Place              Whitebridge     2.3  Errand/Supplies\n",
      "189   03-04-2016 16:16  03-04-2016 16:22  Business         Fayetteville Street  Depot Historic District     0.8  Errand/Supplies\n",
      "199   03-07-2016 09:10  03-07-2016 09:20  Business                 Whitebridge           Edgehill Farms     2.8  Errand/Supplies\n",
      "224     3/14/2016 8:34    3/14/2016 8:49  Business                    The Drag           South Congress     2.0  Errand/Supplies\n",
      "241    3/18/2016 19:23   3/18/2016 19:29  Business                  Sharpstown               Sharpstown     1.0  Errand/Supplies\n",
      "248    3/19/2016 17:37   3/19/2016 17:47  Business                Port Bolivar             Port Bolivar     2.1  Errand/Supplies\n",
      "274     3/27/2016 0:31    3/27/2016 0:40  Business                  Lake Reams               Lake Reams     2.1  Errand/Supplies\n",
      "303   04-07-2016 19:45  04-07-2016 20:00  Business                 Morrisville                     Cary     6.1  Errand/Supplies\n",
      "306   04-08-2016 13:55  04-08-2016 14:03  Business              Westpark Place              Whitebridge     1.8  Errand/Supplies\n",
      "309   04-12-2016 09:15  04-12-2016 09:26  Business                 Whitebridge           Edgehill Farms     2.8  Errand/Supplies\n",
      "317    4/15/2016 12:29   4/15/2016 12:32  Business             Meredith Townes             Harden Place     1.4  Errand/Supplies\n",
      "319    4/16/2016 12:59   4/16/2016 13:17  Business                        Cary              Morrisville     6.0  Errand/Supplies\n",
      "329    4/24/2016 19:07   4/24/2016 19:16  Business                        Cary              Morrisville     3.1  Errand/Supplies\n",
      "330    4/24/2016 19:46   4/24/2016 19:52  Business                 Chessington              Chessington     1.9  Errand/Supplies\n",
      "347   05-01-2016 22:38  05-01-2016 22:49  Business                     Parkway              Whitebridge     3.1  Errand/Supplies\n",
      "348   05-02-2016 14:14  05-02-2016 14:21  Business                 Whitebridge           Westpark Place     2.2  Errand/Supplies\n",
      "352   05-04-2016 20:55  05-04-2016 21:14  Business                       Mcvan              Capitol One    14.5  Errand/Supplies\n",
      "356   05-05-2016 22:34  05-05-2016 22:40  Business                     Redmond                 Bellevue     2.9  Errand/Supplies\n",
      "371    5/17/2016 13:15   5/17/2016 13:23  Business                 Whitebridge                  Preston     2.8  Errand/Supplies\n",
      "372    5/17/2016 13:56   5/17/2016 14:08  Business                     Preston           Westpark Place     2.7  Errand/Supplies\n",
      "373    5/17/2016 14:34   5/17/2016 14:40  Business              Westpark Place              Whitebridge     1.9  Errand/Supplies\n",
      "382    5/23/2016 21:09   5/23/2016 21:21  Business                Savon Height              Whitebridge     3.6  Errand/Supplies\n",
      "383    5/27/2016 20:26   5/27/2016 20:30  Business                 Whitebridge           Kildaire Farms     4.5  Errand/Supplies\n",
      "385    5/27/2016 22:11   5/27/2016 22:14  Business              Kilarney Woods           Kildaire Farms     1.7  Errand/Supplies\n",
      "386     5/28/2016 0:15    5/28/2016 0:21  Business              Kilarney Woods              Whitebridge     4.7  Errand/Supplies\n",
      "397   06-03-2016 18:14  06-03-2016 18:29  Business  Townes at Everett Crossing              Chessington     3.3  Errand/Supplies\n",
      "398   06-03-2016 18:41  06-03-2016 18:53  Business                 Morrisville                     Cary     3.1  Errand/Supplies\n",
      "399   06-03-2016 19:36  06-03-2016 19:42  Business            Huntington Woods                   Weston     1.7  Errand/Supplies\n",
      "407   06-06-2016 15:36  06-06-2016 15:45  Business                 Whitebridge                Hazelwood     3.0  Errand/Supplies\n",
      "408   06-06-2016 16:16  06-06-2016 16:24  Business                   Hazelwood              Whitebridge     2.4  Errand/Supplies\n",
      "416   06-08-2016 12:04  06-08-2016 13:01  Business                     Jamaica                 New York    22.3  Errand/Supplies\n",
      "418   06-08-2016 14:31  06-08-2016 14:37  Business              Medical Centre               Tudor City     0.7  Errand/Supplies\n",
      "420   06-08-2016 17:16  06-08-2016 17:18  Business                        Soho                  Tribeca     0.5  Errand/Supplies\n",
      "421   06-08-2016 17:59  06-08-2016 18:05  Business                     Tribeca       Financial District     0.9  Errand/Supplies\n",
      "422   06-08-2016 20:11  06-08-2016 20:25  Business          Financial District                 Kips Bay     4.8  Errand/Supplies\n",
      "426   06-11-2016 17:08  06-11-2016 17:16  Business                        Cary              Morrisville     3.7  Errand/Supplies\n",
      "432   06-12-2016 20:05  06-12-2016 20:16  Business                 Morrisville                     Cary     4.3  Errand/Supplies\n",
      "433   06-12-2016 21:58  06-12-2016 22:19  Business                     Parkway              Whitebridge     2.8  Errand/Supplies\n",
      "442    6/14/2016 17:27   6/14/2016 17:57  Business                    Downtown          Bay Farm Island     9.3  Errand/Supplies\n",
      "461    6/24/2016 12:19   6/24/2016 12:37  Business                        Cary                  Raleigh     8.6  Errand/Supplies\n",
      "462    6/24/2016 12:50   6/24/2016 13:12  Business                     Raleigh              Morrisville     9.0  Errand/Supplies\n",
      "463    6/24/2016 13:18   6/24/2016 13:27  Business                 Morrisville                     Cary     3.1  Errand/Supplies\n",
      "468    6/25/2016 10:18   6/25/2016 10:25  Business                   Chalmette                    Arabi     1.1  Errand/Supplies\n",
      "507   07-03-2016 00:28  07-03-2016 00:38  Business                        Cary              Morrisville     3.1  Errand/Supplies\n",
      "508   07-03-2016 03:02  07-03-2016 03:08  Business                 Morrisville                     Cary     3.1  Errand/Supplies\n",
      "514   07-05-2016 00:00  07-05-2016 00:05  Business                    Parkwood                 Parkwood     1.2  Errand/Supplies\n",
      "516   07-05-2016 16:48  07-05-2016 16:52  Business                 Whitebridge              Whitebridge     0.6  Errand/Supplies\n",
      "545    7/14/2016 16:03   7/14/2016 16:34  Business                 Morrisville              Morrisville    11.8  Errand/Supplies\n",
      "557    7/16/2016 22:50   7/16/2016 23:03  Business                  Banner Elk               Banner Elk     4.4  Errand/Supplies\n",
      "567    7/18/2016 20:28   7/18/2016 20:32  Business                   Hazelwood                   Weston     0.9  Errand/Supplies\n",
      "572    7/19/2016 17:14   7/19/2016 17:24  Business                 Whitebridge              Chessington     3.9  Errand/Supplies\n",
      "859   10/25/2016 22:24  10/25/2016 22:45  Business                     Parkway              Whitebridge     8.7  Errand/Supplies\n",
      "886   10/31/2016 21:45  10/31/2016 22:10  Business                Savon Height              Whitebridge     9.6  Errand/Supplies\n",
      "949   11-12-2016 15:40  11-12-2016 15:59  Business                  Emeryville                 Berkeley     3.7  Errand/Supplies\n",
      "963   11/14/2016 20:19  11/14/2016 20:30  Business                  Emeryville                 Berkeley     3.7  Errand/Supplies\n",
      "977   11/19/2016 17:41  11/19/2016 17:54  Business                        Cary                     Apex     5.4  Errand/Supplies\n",
      "982   11/20/2016 17:45  11/20/2016 18:37  Business                        Cary                     Cary    18.5  Errand/Supplies\n",
      "985   11/21/2016 17:50  11/21/2016 18:04  Business                        Cary         Unknown Location     6.7  Errand/Supplies\n",
      "987   11/21/2016 18:43  11/21/2016 18:51  Business                 Morrisville                     Cary     3.4  Errand/Supplies\n",
      "1003  11/26/2016 19:47  11/26/2016 19:54  Business                        Cary                     Cary     2.5  Errand/Supplies\n",
      "1010  12-01-2016 08:37  12-01-2016 08:53  Business                        Cary                     Cary     5.5  Errand/Supplies\n",
      "1017  12-03-2016 18:35  12-03-2016 18:56  Business                        Cary                 Wake Co.     6.6  Errand/Supplies\n",
      "1028  12-08-2016 14:19  12-08-2016 14:32  Business                        Cary                     Cary     3.4  Errand/Supplies\n",
      "1029  12-08-2016 14:53  12-08-2016 15:02  Business                        Cary                     Cary     3.4  Errand/Supplies\n",
      "1031  12-08-2016 21:26  12-08-2016 21:31  Business                        Cary                     Cary     2.0  Errand/Supplies\n",
      "1032  12-09-2016 12:09  12-09-2016 12:24  Business                        Cary                     Apex     5.1  Errand/Supplies\n",
      "1037  12-10-2016 14:42  12-10-2016 15:18  Business               Fuquay-Varina                     Cary    15.6  Errand/Supplies\n",
      "1041  12-11-2016 19:05  12-11-2016 19:15  Business                 Morrisville                     Cary     4.8  Errand/Supplies\n",
      "1042  12-11-2016 21:48  12-11-2016 21:56  Business                        Cary                     Cary     2.1  Errand/Supplies\n",
      "1043  12-12-2016 13:22  12-12-2016 13:32  Business                        Cary                     Cary     3.1  Errand/Supplies\n",
      "1048  12/13/2016 18:19  12/13/2016 18:29  Business                        Cary                     Cary     4.2  Errand/Supplies\n",
      "1057  12/18/2016 13:03  12/18/2016 13:41  Business            Unknown Location         Unknown Location     4.9  Errand/Supplies\n",
      "1058  12/18/2016 16:38  12/18/2016 17:25  Business            Unknown Location         Unknown Location    10.2  Errand/Supplies\n",
      "1060   12/19/2016 9:08   12/19/2016 9:36  Business            Unknown Location                Islamabad     7.7  Errand/Supplies\n",
      "1062  12/19/2016 13:04  12/19/2016 13:08  Business                  Rawalpindi         Unknown Location     0.7  Errand/Supplies\n",
      "1072  12/20/2016 10:30  12/20/2016 10:48  Business                  Rawalpindi               Rawalpindi     3.3  Errand/Supplies\n",
      "1074  12/20/2016 13:14  12/20/2016 13:20  Business            Unknown Location         Unknown Location     1.7  Errand/Supplies\n",
      "1076  12/20/2016 16:14  12/20/2016 16:24  Business                   Islamabad                Islamabad     1.8  Errand/Supplies\n",
      "1077  12/20/2016 16:56  12/20/2016 17:07  Business                   Islamabad                Islamabad     1.4  Errand/Supplies\n",
      "1080  12/21/2016 10:14  12/21/2016 10:30  Business            Unknown Location                Islamabad     4.9  Errand/Supplies\n",
      "1083  12/21/2016 15:38  12/21/2016 15:49  Business            Unknown Location         Unknown Location     2.0  Errand/Supplies\n",
      "1084  12/21/2016 15:55  12/21/2016 16:05  Business            Unknown Location                Islamabad     2.1  Errand/Supplies\n",
      "1093  12/22/2016 18:31  12/22/2016 18:37  Business            Unknown Location         Unknown Location     3.2  Errand/Supplies\n",
      "1101  12/23/2016 16:23  12/23/2016 16:34  Business            Unknown Location         Unknown Location     1.3  Errand/Supplies\n",
      "1106  12/24/2016 12:51  12/24/2016 12:53  Business                      Lahore                   Lahore     1.6  Errand/Supplies\n",
      "1107  12/24/2016 13:08  12/24/2016 13:29  Business                      Lahore                   Lahore     3.6  Errand/Supplies\n",
      "1108  12/24/2016 17:12  12/24/2016 17:27  Business                      Lahore                   Lahore     1.7  Errand/Supplies\n",
      "1110  12/24/2016 22:04  12/24/2016 22:09  Business                      Lahore                   Lahore     0.6  Errand/Supplies\n",
      "1111   12/25/2016 0:10   12/25/2016 0:14  Business                      Lahore                   Lahore     0.6  Errand/Supplies\n",
      "1126  12/28/2016 11:42  12/28/2016 12:12  Business            Unknown Location                  Karachi    10.4  Errand/Supplies\n",
      "1127  12/28/2016 13:53  12/28/2016 14:01  Business                     Karachi                  Karachi     2.0  Errand/Supplies\n",
      "1129  12/28/2016 17:02  12/28/2016 17:16  Business            Unknown Location                  Karachi     4.4  Errand/Supplies\n",
      "1130  12/28/2016 18:33  12/28/2016 18:56  Business                     Karachi                  Karachi     3.8  Errand/Supplies\n",
      "1131  12/28/2016 22:44  12/28/2016 23:18  Business                     Karachi                  Karachi     5.1  Errand/Supplies\n",
      "1132   12/29/2016 0:49   12/29/2016 1:06  Business                     Karachi                  Karachi     3.8  Errand/Supplies\n",
      "1135  12/29/2016 12:25  12/29/2016 12:33  Business                     Karachi                  Karachi     1.4  Errand/Supplies\n",
      "1136  12/29/2016 13:17  12/29/2016 13:24  Business                     Karachi                  Karachi     1.1  Errand/Supplies\n",
      "1139  12/29/2016 15:05  12/29/2016 15:16  Business                     Karachi                  Karachi     1.3  Errand/Supplies\n",
      "1145  12/30/2016 10:15  12/30/2016 10:33  Business                     Karachi                  Karachi     2.8  Errand/Supplies\n",
      "1146  12/30/2016 11:31  12/30/2016 11:56  Business                     Karachi                  Karachi     2.9  Errand/Supplies\n",
      "1147  12/30/2016 15:41  12/30/2016 16:03  Business                     Karachi                  Karachi     4.6  Errand/Supplies\n",
      "                \n",
      "The sum of all the trips travelled by the PURPOSE,'Errand/Suppli' is:-  508.0\n"
     ]
    }
   ],
   "source": [
    "print(\"The dataframe 'a' is modified with purpose 'Errand/Suppl'and in the below mentioned the sum of all the trips travelled by this perticular purpose.\")\n",
    "print('                ')\n",
    "a=uber_drives.loc[uber_drives['PURPOSE*']=='Errand/Supplies']\n",
    "pd.set_option('display.max_columns', 2000)\n",
    "print(a)\n",
    "tot_dis=a['MILES*'].sum()\n",
    "print('                ')\n",
    "print(\"The sum of all the trips travelled by the PURPOSE,'Errand/Suppli' is:- \",tot_dis)\n",
    "\n"
   ]
  },
  {
   "cell_type": "markdown",
   "metadata": {
    "id": "CIZBaeSt199o"
   },
   "source": [
    "## Q21. Generate a plot showing count of trips vs category of trips. What can you infer from the plot (2 +1 points)\n",
    "#### Note: Use the original dataframe without dropping the 'NA' values."
   ]
  },
  {
   "cell_type": "code",
   "execution_count": 287,
   "metadata": {
    "colab": {
     "base_uri": "https://localhost:8080/"
    },
    "id": "fRuxSI0W199p",
    "outputId": "adc11110-b792-40e9-e875-f5e0479037ee"
   },
   "outputs": [
    {
     "name": "stdout",
     "output_type": "stream",
     "text": [
      "Business    1078\n",
      "Personal      77\n",
      "Name: CATEGORY*, dtype: int64\n",
      "Hece the bar plot showing the count for both the category of trips, First one, Business = 1078 and Personal = 77.\n"
     ]
    },
    {
     "data": {
      "image/png": "[encoded data removed]",
      "text/plain": [
       "<Figure size 432x288 with 1 Axes>"
      ]
     },
     "metadata": {
      "needs_background": "light"
     },
     "output_type": "display_data"
    }
   ],
   "source": [
    "import seaborn as sns \n",
    "import matplotlib.pyplot as plt\n",
    "sns.set(color_codes=True)\n",
    "%matplotlib inline\n",
    "COUNT_CATEG=pd.value_counts(uber_drives['CATEGORY*'])\n",
    "print(COUNT_CATEG)\n",
    "COUNT_CATEG.plot(kind='bar')\n",
    "print(\"Hece the bar plot showing the count for both the category of trips, First one, Business = 1078 and Personal = 77.\")\n"
   ]
  },
  {
   "cell_type": "markdown",
   "metadata": {
    "id": "VgzSzOt9199t"
   },
   "source": [
    "## Q22. What percentage of Miles were clocked under Business Category and what percentage of Miles were clocked under Personal Category ? (3 points)\n",
    "\n",
    "### Note:Use the original dataframe without dropping the 'NA' values. \n"
   ]
  },
  {
   "cell_type": "code",
   "execution_count": 321,
   "metadata": {
    "colab": {
     "base_uri": "https://localhost:8080/",
     "height": 142
    },
    "id": "K6ExiAiI199u",
    "outputId": "10af8841-c69f-40a1-a97f-5385f54d463e"
   },
   "outputs": [
    {
     "name": "stdout",
     "output_type": "stream",
     "text": [
      "     CATEGORY*  MILES*\n",
      "0     Business     5.1\n",
      "1     Business     5.0\n",
      "2     Business     4.8\n",
      "3     Business     4.7\n",
      "4     Business    63.7\n",
      "...        ...     ...\n",
      "1150  Business     0.7\n",
      "1151  Business     3.9\n",
      "1152  Business    16.2\n",
      "1153  Business     6.4\n",
      "1154  Business    48.2\n",
      "\n",
      "[1155 rows x 2 columns]\n",
      "            \n",
      "CATEGORY*\n",
      "Business    11487.0\n",
      "Personal      717.7\n",
      "Name: MILES*, dtype: float64\n",
      "            \n",
      "Sum of Miles driven under Business and Personal category is 12204.7\n",
      "Percentage for Business and Personal category covered miles:- CATEGORY*\n",
      "Business    94.119479\n",
      "Personal     5.880521\n",
      "Name: MILES*, dtype: float64\n",
      "Answer - Business = 94.119479 %, Personal =  5.880521 % \n",
      "THANK YOU\n"
     ]
    }
   ],
   "source": [
    "a=uber_drives.drop(['START_DATE*','END_DATE*','START*', 'STOP*','PURPOSE*'],axis=1)\n",
    "print(a)\n",
    "print(\"            \")\n",
    "b=a.groupby('CATEGORY*')['MILES*'].sum()\n",
    "print(b)\n",
    "\n",
    "print(\"            \")\n",
    "c=11487+717.7\n",
    "print(\"Sum of Miles driven under Business and Personal category is\", c)\n",
    "\n",
    "print(\"Percentage for Business and Personal category covered miles:-\", b/12204.7*100)\n",
    "\n",
    "\n",
    "print(\"Answer - Business = 94.119479 %, Personal =  5.880521 % \")\n",
    "\n",
    "\n",
    "\n",
    "\n",
    "\n",
    "\n",
    "\n",
    "print(\"THANK YOU\")"
   ]
  },
  {
   "cell_type": "markdown",
   "metadata": {
    "id": "_kYn6PGTUntA"
   },
   "source": [
    "***THE END***"
   ]
  }
 ],
 "metadata": {
  "colab": {
   "collapsed_sections": [],
   "name": "PDS_UberDriveProject_Solution1.ipynb",
   "provenance": []
  },
  "kernelspec": {
   "display_name": "Python 3",
   "language": "python",
   "name": "python3"
  },
  "language_info": {
   "codemirror_mode": {
    "name": "ipython",
    "version": 3
   },
   "file_extension": ".py",
   "mimetype": "text/x-python",
   "name": "python",
   "nbconvert_exporter": "python",
   "pygments_lexer": "ipython3",
   "version": "3.8.8"
  },
  "toc": {
   "base_numbering": 1,
   "nav_menu": {},
   "number_sections": true,
   "sideBar": true,
   "skip_h1_title": false,
   "title_cell": "Table of Contents",
   "title_sidebar": "Contents",
   "toc_cell": false,
   "toc_position": {},
   "toc_section_display": true,
   "toc_window_display": false
  },
  "varInspector": {
   "cols": {
    "lenName": 16,
    "lenType": 16,
    "lenVar": 40
   },
   "kernels_config": {
    "python": {
     "delete_cmd_postfix": "",
     "delete_cmd_prefix": "del ",
     "library": "var_list.py",
     "varRefreshCmd": "print(var_dic_list())"
    },
    "r": {
     "delete_cmd_postfix": ") ",
     "delete_cmd_prefix": "rm(",
     "library": "var_list.r",
     "varRefreshCmd": "cat(var_dic_list()) "
    }
   },
   "types_to_exclude": [
    "module",
    "function",
    "builtin_function_or_method",
    "instance",
    "_Feature"
   ],
   "window_display": false
  }
 },
 "nbformat": 4,
 "nbformat_minor": 1
}
